{
 "cells": [
  {
   "cell_type": "markdown",
   "metadata": {},
   "source": [
    "# Monkey delayed-reaching task\n",
    "\n",
    "In this notebook, we will visualize data collected from the motor cortex (M1) of a monkey during a delayed reaching task. This data has been preprocessed such that it is aligned to (-100, 450) ms as the monkey reaches toward a target location. \n",
    "\n",
    "\n",
    "#### Reference:\n",
    "Churchland, Mark; Kaufman, Matthew (2022) MC_Maze_Large: macaque primary motor and dorsal premotor cortex spiking activity during delayed reaching (Version 0.220113.0407) [Data set]. DANDI archive. https://doi.org/10.48324/dandi.000138/0.220113.0407"
   ]
  },
  {
   "cell_type": "code",
   "execution_count": null,
   "metadata": {
    "jupyter": {
     "outputs_hidden": false
    }
   },
   "outputs": [],
   "source": [
    "# imports\n",
    "import numpy as np\n",
    "import matplotlib\n",
    "import matplotlib.pyplot as plt\n",
    "#%matplotlib inline  # uncomment these if jupyter notebook (not lab)\n",
    "#%matplotlib notebook\n",
    "\n",
    "import torch\n",
    "import scipy\n",
    "import h5py\n",
    "import pickle\n",
    "from einops import rearrange\n",
    "\n",
    "# local imports\n",
    "import sys\n",
    "sys.path.append(\"..\")\n",
    "from code_pack.plotting import raster_to_events"
   ]
  },
  {
   "cell_type": "code",
   "execution_count": null,
   "metadata": {
    "jupyter": {
     "outputs_hidden": false
    }
   },
   "outputs": [],
   "source": [
    "# loading train data\n",
    "trial_info_save_path = 'data/info_per_trial_{}.pkl'\n",
    "spikes_per_trial_save_path = 'data/spikes_per_trial.h5'\n",
    "rates_per_trial_save_path = 'data/rates_per_trial_{}.npy'\n",
    "velocity_per_trial_save_path = 'data/velocity_per_trial_{}.npy'\n",
    "position_per_trial_save_path = 'data/position_per_trial_{}.npy'\n",
    "\n",
    "spikes_per_trial = h5py.File(spikes_per_trial_save_path, 'r')\n",
    "spike_data_train = np.array(spikes_per_trial['Y'], np.float32)\n",
    "# print(spike_data_train.shape)\n",
    "\n",
    "position_per_trial_train = np.load(position_per_trial_save_path.format(\"train\"))\n",
    "velocity_per_trial_train = np.load(velocity_per_trial_save_path.format(\"train\"))\n",
    "rates_per_trial_train = np.load(rates_per_trial_save_path.format(\"train\"))\n",
    "\n",
    "trial_info_train = []\n",
    "with (open(trial_info_save_path.format(\"train\"), \"rb\")) as openfile:\n",
    "    while True:\n",
    "        try:\n",
    "            trial_info_train.append(pickle.load(openfile))\n",
    "        except EOFError:\n",
    "            break\n",
    "trial_info_train = trial_info_train[0]"
   ]
  },
  {
   "cell_type": "code",
   "execution_count": null,
   "metadata": {
    "jupyter": {
     "outputs_hidden": false
    }
   },
   "outputs": [],
   "source": [
    "# visualizing the raster of the first trial\n",
    "fig, ax = plt.subplots(1, 1, figsize=(8, 5))\n",
    "events = raster_to_events(spike_data_train[0,:,:])\n",
    "_ = ax.eventplot(events, linewidths=0.5, color='blue')\n",
    "\n",
    "plt.xlabel('Time')\n",
    "plt.ylabel('Neuron index')"
   ]
  },
  {
   "cell_type": "code",
   "execution_count": null,
   "metadata": {
    "jupyter": {
     "outputs_hidden": false
    }
   },
   "outputs": [],
   "source": [
    "# Visualize the reaching motion of the monkey for the first 20 trials\n",
    "\n",
    "fig, ax = plt.subplots(1, 1, figsize=(5, 5))\n",
    "\n",
    "for i in range(20):\n",
    "    ax.plot(position_per_trial_train[i,:,0], position_per_trial_train[i,:,1])\n",
    "    \n",
    "plt.xlabel('X position')\n",
    "plt.ylabel('Y position')\n",
    "\n",
    "plt.grid()"
   ]
  },
  {
   "cell_type": "code",
   "execution_count": null,
   "metadata": {
    "jupyter": {
     "outputs_hidden": false
    }
   },
   "outputs": [],
   "source": [
    "# adding velocity information as a color on hand motion\n",
    "mod_vel0 = np.sqrt(velocity_per_trial_train[0,:,0]**2 + velocity_per_trial_train[0,:,1]**2)\n",
    "mod_vel0 /= np.max(mod_vel0)\n",
    "\n",
    "cm = plt.get_cmap('plasma')\n",
    "colors = cm(mod_vel0)\n",
    "norm = matplotlib.colors.Normalize(vmin=0, vmax=2)\n",
    "\n",
    "# creating ScalarMappable\n",
    "sm = plt.cm.ScalarMappable(cmap=cm, norm=norm)\n",
    "sm.set_array([])\n",
    "\n",
    "fig, ax = plt.subplots(1,1,figsize=(7,5))\n",
    "for i in range(mod_vel0.shape[0]-2):\n",
    "    im = ax.plot(position_per_trial_train[0,i:i+2,0], position_per_trial_train[0,i:i+2,1], color=colors[i+2])\n",
    "plt.colorbar(sm, ax=ax, label='Velocity')\n",
    "\n",
    "plt.grid()\n",
    "\n",
    "plt.xlim(-150,170)\n",
    "plt.ylim(-120,120)\n",
    "\n",
    "plt.xlabel('X position')\n",
    "plt.ylabel('Y position')"
   ]
  },
  {
   "cell_type": "markdown",
   "metadata": {},
   "source": [
    "#### PCA\n",
    "\n",
    "In order to perform PCA, we first concatenate the the trials such that the data is of the form (trial x time) x neurons. We then smooth the data with a gaussian kernel."
   ]
  },
  {
   "cell_type": "code",
   "execution_count": null,
   "metadata": {
    "jupyter": {
     "outputs_hidden": false
    }
   },
   "outputs": [],
   "source": [
    "# smoothing data with a gaussian kernel\n",
    "data_stacked = rearrange(spike_data_train, 'trial time neurons -> (trial time) neurons')\n",
    "data_smooth = scipy.ndimage.gaussian_filter1d(input = data_stacked, sigma=50.0, axis=0)\n",
    "data_centered = data_smooth - np.mean(data_smooth, axis=0)\n",
    "\n",
    "print(data_centered.shape)\n",
    "\n",
    "fig, ax = plt.subplots(1, 1, figsize =(10, 5))\n",
    "_= ax.plot(data_smooth[:, 0], color='blue')\n",
    "\n",
    "plt.xlabel('Concatenated trials')\n",
    "\n",
    "plt.title('Neuron 1')"
   ]
  },
  {
   "cell_type": "code",
   "execution_count": null,
   "metadata": {
    "jupyter": {
     "outputs_hidden": false
    }
   },
   "outputs": [],
   "source": [
    "# PCA using SVD\n",
    "u, s, vh = np.linalg.svd(data_centered, full_matrices=False)\n",
    "u.shape, s.shape"
   ]
  },
  {
   "cell_type": "code",
   "execution_count": null,
   "metadata": {
    "jupyter": {
     "outputs_hidden": false
    }
   },
   "outputs": [],
   "source": [
    "norm_sv = s**2/np.sum(s**2)\n",
    "top2sv = np.sum(norm_sv[:2])\n",
    "print(\"Total observations explained by the first two principal components: {0:.3f}%\".format(top2sv*100))"
   ]
  },
  {
   "cell_type": "code",
   "execution_count": null,
   "metadata": {},
   "outputs": [],
   "source": [
    "plt.plot(20*np.log10(norm_sv), 'o-')\n",
    "plt.grid()\n",
    "plt.ylabel(\"variance explained (dB)\"); plt.xlabel(\"PC (ordered)\")"
   ]
  },
  {
   "cell_type": "code",
   "execution_count": null,
   "metadata": {
    "jupyter": {
     "outputs_hidden": false
    }
   },
   "outputs": [],
   "source": [
    "# visualizing top two PCs\n",
    "\n",
    "top2u = u[:, :2]\n",
    "top2s = s[:2]\n",
    "top2reconstruction = top2u * top2s\n",
    "print(top2reconstruction.shape)\n",
    "fig, ax = plt.subplots(1, 1, figsize =(10, 5))\n",
    "ax.plot(top2reconstruction[:, 0], color='blue')\n",
    "ax.plot(top2reconstruction[:, 1], color='red')\n"
   ]
  },
  {
   "cell_type": "code",
   "execution_count": null,
   "metadata": {},
   "outputs": [],
   "source": []
  }
 ],
 "metadata": {
  "kernelspec": {
   "display_name": "Python 3 (ipykernel)",
   "language": "python",
   "name": "python3"
  },
  "language_info": {
   "codemirror_mode": {
    "name": "ipython",
    "version": 3
   },
   "file_extension": ".py",
   "mimetype": "text/x-python",
   "name": "python",
   "nbconvert_exporter": "python",
   "pygments_lexer": "ipython3",
   "version": "3.9.0"
  }
 },
 "nbformat": 4,
 "nbformat_minor": 4
}
