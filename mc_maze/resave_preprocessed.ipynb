{
 "cells": [
  {
   "cell_type": "markdown",
   "id": "294ec105-85e4-46d6-858c-1825207c4dd0",
   "metadata": {},
   "source": [
    "## Resave Monkey delayed-reaching task data preprocessed"
   ]
  },
  {
   "cell_type": "code",
   "execution_count": 15,
   "id": "7a9865f6-11de-41cd-8af7-5d0e70060b4a",
   "metadata": {},
   "outputs": [],
   "source": [
    "import h5py\n",
    "import numpy as np\n",
    "import pickle\n",
    "import matplotlib.pyplot as plt\n",
    "\n",
    "# loading train data\n",
    "baseDir = 'mc_maze/data/'\n",
    "trial_info_save_path = baseDir + 'info_per_trial_{}.pkl'\n",
    "spikes_per_trial_save_path = baseDir + 'spikes_per_trial.h5'\n",
    "rates_per_trial_save_path = baseDir + 'rates_per_trial_{}.npy'\n",
    "velocity_per_trial_save_path = baseDir + 'velocity_per_trial_{}.npy'\n",
    "position_per_trial_save_path = baseDir + 'position_per_trial_{}.npy'\n",
    "\n",
    "spikes_per_trial = h5py.File(spikes_per_trial_save_path, 'r')\n",
    "spike_data_train = np.array(spikes_per_trial['Y'], np.float32)\n",
    "# print(spike_data_train.shape)\n",
    "\n",
    "position_per_trial_train = np.load(position_per_trial_save_path.format(\"train\"))\n",
    "velocity_per_trial_train = np.load(velocity_per_trial_save_path.format(\"train\"))\n",
    "rates_per_trial_train = np.load(rates_per_trial_save_path.format(\"train\"))\n",
    "\n",
    "position_per_trial_val = np.load(position_per_trial_save_path.format(\"val\"))\n",
    "velocity_per_trial_val = np.load(velocity_per_trial_save_path.format(\"val\"))\n",
    "rates_per_trial_val = np.load(rates_per_trial_save_path.format(\"val\"))\n",
    "\n",
    "trial_info_train = []\n",
    "with (open(trial_info_save_path.format(\"train\"), \"rb\")) as openfile:\n",
    "    while True:\n",
    "        try:\n",
    "            trial_info_train.append(pickle.load(openfile))\n",
    "        except EOFError:\n",
    "            break\n",
    "trial_info_train = trial_info_train[0]\n",
    "\n",
    "trial_info_val = []\n",
    "with (open(trial_info_save_path.format(\"val\"), \"rb\")) as openfile:\n",
    "    while True:\n",
    "        try:\n",
    "            trial_info_val.append(pickle.load(openfile))\n",
    "        except EOFError:\n",
    "            break\n",
    "trial_info_val = trial_info_val[0]"
   ]
  },
  {
   "cell_type": "code",
   "execution_count": 19,
   "id": "ee0be866-bbb0-4783-93e3-a565414f23c9",
   "metadata": {},
   "outputs": [
    {
     "ename": "NameError",
     "evalue": "name 'spike_data_val' is not defined",
     "output_type": "error",
     "traceback": [
      "\u001b[0;31m---------------------------------------------------------------------------\u001b[0m",
      "\u001b[0;31mNameError\u001b[0m                                 Traceback (most recent call last)",
      "Cell \u001b[0;32mIn [19], line 13\u001b[0m\n\u001b[1;32m     11\u001b[0m ds \u001b[38;5;241m=\u001b[39m f\u001b[38;5;241m.\u001b[39mcreate_dataset(\u001b[38;5;124m'\u001b[39m\u001b[38;5;124mvel-val\u001b[39m\u001b[38;5;124m'\u001b[39m, velocity_per_trial_val\u001b[38;5;241m.\u001b[39mshape)\n\u001b[1;32m     12\u001b[0m ds[:] \u001b[38;5;241m=\u001b[39m velocity_per_trial_val\n\u001b[0;32m---> 13\u001b[0m ds \u001b[38;5;241m=\u001b[39m f\u001b[38;5;241m.\u001b[39mcreate_dataset(\u001b[38;5;124m'\u001b[39m\u001b[38;5;124mspk-val\u001b[39m\u001b[38;5;124m'\u001b[39m, \u001b[43mspike_data_val\u001b[49m\u001b[38;5;241m.\u001b[39mshape)\n\u001b[1;32m     14\u001b[0m ds[:] \u001b[38;5;241m=\u001b[39m spike_data_val\n",
      "\u001b[0;31mNameError\u001b[0m: name 'spike_data_val' is not defined"
     ]
    }
   ],
   "source": [
    "with h5py.File('monkey.hdf5', 'w') as f:\n",
    "    ds = f.create_dataset('pos-train', position_per_trial_train.shape)\n",
    "    ds[:] = position_per_trial_train\n",
    "    ds = f.create_dataset('vel-train', velocity_per_trial_train.shape)\n",
    "    ds[:] = velocity_per_trial_train\n",
    "    ds = f.create_dataset('spk-train', spike_data_train.shape)\n",
    "    ds[:] = spike_data_train\n",
    "    \n",
    "    ds = f.create_dataset('pos-val', position_per_trial_val.shape)\n",
    "    ds[:] = position_per_trial_val\n",
    "    ds = f.create_dataset('vel-val', velocity_per_trial_val.shape)\n",
    "    ds[:] = velocity_per_trial_val\n",
    "    ds = f.create_dataset('spk-val', spike_data_val.shape)\n",
    "    ds[:] = spike_data_val"
   ]
  }
 ],
 "metadata": {
  "kernelspec": {
   "display_name": "Python 3 (ipykernel)",
   "language": "python",
   "name": "python3"
  },
  "language_info": {
   "codemirror_mode": {
    "name": "ipython",
    "version": 3
   },
   "file_extension": ".py",
   "mimetype": "text/x-python",
   "name": "python",
   "nbconvert_exporter": "python",
   "pygments_lexer": "ipython3",
   "version": "3.10.6"
  }
 },
 "nbformat": 4,
 "nbformat_minor": 5
}
