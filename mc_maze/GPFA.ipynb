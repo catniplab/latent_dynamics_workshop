{
 "cells": [
  {
   "cell_type": "markdown",
   "source": [
    "#### running GPFA on MC maze dataset"
   ],
   "metadata": {
    "collapsed": false
   }
  },
  {
   "cell_type": "code",
   "execution_count": 12,
   "outputs": [],
   "source": [
    "# imports\n",
    "import neo\n",
    "import h5py\n",
    "import torch\n",
    "import pickle\n",
    "import pathlib\n",
    "import numpy as np\n",
    "import matplotlib.pyplot as plt\n",
    "from einops import rearrange\n",
    "\n",
    "import quantities as pq\n",
    "from elephant.gpfa import GPFA"
   ],
   "metadata": {
    "collapsed": false
   }
  },
  {
   "cell_type": "code",
   "execution_count": 2,
   "outputs": [],
   "source": [
    "# loading train data\n",
    "trial_info_save_path = 'data/info_per_trial_{}.pkl'\n",
    "spikes_per_trial_save_path = 'data/spikes_per_trial.h5'\n",
    "rates_per_trial_save_path = 'data/rates_per_trial_{}.npy'\n",
    "velocity_per_trial_save_path = 'data/velocity_per_trial_{}.npy'\n",
    "position_per_trial_save_path = 'data/position_per_trial_{}.npy'\n",
    "\n",
    "spikes_per_trial = h5py.File(spikes_per_trial_save_path, 'r')\n",
    "spike_data_train = np.array(spikes_per_trial['Y'], np.float32)\n",
    "spike_data_val = np.array(spikes_per_trial['Y_val'], np.float32)\n",
    "# print(spike_data_train.shape)\n",
    "\n",
    "position_per_trial_train = np.load(position_per_trial_save_path.format(\"train\"))\n",
    "velocity_per_trial_train = np.load(velocity_per_trial_save_path.format(\"train\"))\n",
    "rates_per_trial_train = np.load(rates_per_trial_save_path.format(\"train\"))\n",
    "\n",
    "trial_info_train = []\n",
    "with (open(trial_info_save_path.format(\"train\"), \"rb\")) as openfile:\n",
    "    while True:\n",
    "        try:\n",
    "            trial_info_train.append(pickle.load(openfile))\n",
    "        except EOFError:\n",
    "            break\n",
    "trial_info_train = trial_info_train[0]"
   ],
   "metadata": {
    "collapsed": false
   }
  },
  {
   "cell_type": "code",
   "execution_count": 3,
   "outputs": [],
   "source": [
    "# Convert to neo.SpikeTrains\n",
    "def array_to_spiketrains(array, bin_size):\n",
    "    \"\"\"Convert B x T x N spiking array to list of list of SpikeTrains\"\"\"\n",
    "    stList = []\n",
    "    for trial in range(len(array)):\n",
    "        trialList = []\n",
    "        for channel in range(array.shape[2]):\n",
    "            times = np.nonzero(array[trial, :, channel])[0]\n",
    "            counts = array[trial, times, channel].astype(int)\n",
    "            times = np.repeat(times, counts)\n",
    "            st = neo.SpikeTrain(times*bin_size*pq.ms, t_stop=array.shape[1]*bin_size*pq.ms)\n",
    "            trialList.append(st)\n",
    "        stList.append(trialList)\n",
    "    return stList"
   ],
   "metadata": {
    "collapsed": false
   }
  },
  {
   "cell_type": "code",
   "execution_count": 4,
   "outputs": [],
   "source": [
    "# setting up some parameters for the GPFA\n",
    "bin_size_ms = 5\n",
    "n_latents = 2\n",
    "bin_size_ms_q = bin_size_ms * pq.ms"
   ],
   "metadata": {
    "collapsed": false
   }
  },
  {
   "cell_type": "code",
   "execution_count": 5,
   "outputs": [],
   "source": [
    "# setting up train data\n",
    "train_spikes = array_to_spiketrains(spike_data_train, bin_size_ms)\n",
    "val_spikes = array_to_spiketrains(spike_data_val, bin_size_ms)"
   ],
   "metadata": {
    "collapsed": false
   }
  },
  {
   "cell_type": "code",
   "execution_count": 6,
   "outputs": [
    {
     "name": "stdout",
     "output_type": "stream",
     "text": [
      "Initializing parameters using factor analysis...\n",
      "\n",
      "Fitting GPFA model...\n"
     ]
    }
   ],
   "source": [
    "# Run GPFA\n",
    "gpfa = GPFA(bin_size=bin_size_ms_q, x_dim=n_latents)\n",
    "train_factors = gpfa.fit_transform(train_spikes)\n",
    "val_factors = gpfa.transform(val_spikes)"
   ],
   "metadata": {
    "collapsed": false
   }
  },
  {
   "cell_type": "code",
   "execution_count": 7,
   "outputs": [
    {
     "data": {
      "text/plain": "<Figure size 500x500 with 1 Axes>",
      "image/png": "[encoded data removed]"
     },
     "metadata": {},
     "output_type": "display_data"
    }
   ],
   "source": [
    "fig, ax = plt.subplots(1,1,figsize=(5,5))\n",
    "_=ax.plot(np.array(train_factors[0][0,:]), np.array(train_factors[0][1,:]), color='blue')\n",
    "_=ax.plot(np.array(train_factors[1][0,:]), np.array(train_factors[1][1,:]), color='red')\n",
    "_=ax.plot(np.array(train_factors[2][0,:]), np.array(train_factors[2][1,:]), color='green')"
   ],
   "metadata": {
    "collapsed": false
   }
  }
 ],
 "metadata": {
  "kernelspec": {
   "display_name": "Python 3",
   "language": "python",
   "name": "python3"
  },
  "language_info": {
   "codemirror_mode": {
    "name": "ipython",
    "version": 2
   },
   "file_extension": ".py",
   "mimetype": "text/x-python",
   "name": "python",
   "nbconvert_exporter": "python",
   "pygments_lexer": "ipython2",
   "version": "2.7.6"
  }
 },
 "nbformat": 4,
 "nbformat_minor": 0
}
