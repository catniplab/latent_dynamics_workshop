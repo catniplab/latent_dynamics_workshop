{
 "cells": [
  {
   "cell_type": "markdown",
   "id": "5e672056-bf6f-4b2b-8c1a-7db0013555db",
   "metadata": {},
   "source": [
    "# Variational Inference\n",
    "\n",
    "We will look at two different variational methods to infer an interpretable structure from a streaming high-dimensional time series: sequential variational encoder (seqVAE) and variational joint filtering (VJF).\n",
    "\n"
   ]
  },
  {
   "cell_type": "code",
   "execution_count": null,
   "id": "6444dc71-698d-4959-b5e9-0b28934e2af0",
   "metadata": {},
   "outputs": [],
   "source": [
    "import h5py\n",
    "import torch\n",
    "import numpy as np\n",
    "import matplotlib.pyplot as plt\n",
    "\n",
    "from code_pack.generate_vdp_data import generate_van_der_pol, generate_noisy_van_der_pol\n",
    "from vjf.model import VJF\n",
    "import math\n",
    "from einops import rearrange"
   ]
  },
  {
   "cell_type": "code",
   "execution_count": null,
   "id": "e4b6a97a-a6b6-4a62-8edb-f377ec025cd6",
   "metadata": {},
   "outputs": [],
   "source": [
    "# Setup precision and random seeds\n",
    "torch.set_default_dtype(torch.double)  # using double precision\n",
    "np.random.seed(0)\n",
    "torch.manual_seed(0);"
   ]
  },
  {
   "cell_type": "code",
   "execution_count": null,
   "id": "c5914fa1-ca6e-4045-8eeb-014fd2f6a968",
   "metadata": {},
   "outputs": [],
   "source": [
    "def plot_vector_field(dynamics_fn, axs, axs_range):\n",
    "    x = np.linspace(min(axs_range['x_min'], -1.5), max(axs_range['x_max'],1.5), 50)\n",
    "    y = np.linspace(min(axs_range['y_min'], -1.5), max(axs_range['y_max'], 1.5), 50)\n",
    "\n",
    "    X, Y = np.meshgrid(x, y)\n",
    "    u, v = np.zeros(X.shape), np.zeros(Y.shape)\n",
    "    NI, NJ = Y.shape\n",
    "\n",
    "    for i in range(NI):\n",
    "        for j in range(NJ):\n",
    "            x = X[i, j]\n",
    "            y = Y[i, j]\n",
    "\n",
    "            vec_in = torch.tensor([x, y], dtype=torch.float32)\n",
    "            vec_out = dynamics_fn(vec_in)\n",
    "            s = (vec_out - vec_in).cpu().data.numpy()\n",
    "\n",
    "            u[i, j] = s[0]\n",
    "            v[i, j] = s[1]\n",
    "\n",
    "    axs.streamplot(X, Y, u, v, color='black', linewidth=0.5, arrowsize=0.5)\n",
    "    \n",
    "def grid(n, lims):\n",
    "    xedges = np.linspace(*lims, n)\n",
    "    yedges = np.linspace(*lims, n)\n",
    "    X, Y = np.meshgrid(xedges, yedges)\n",
    "    grids = np.column_stack([X.reshape(-1), Y.reshape(-1)])\n",
    "    return X, Y, grids"
   ]
  },
  {
   "cell_type": "markdown",
   "id": "0e87e493-f242-4db9-8eaa-cff8f80a06a7",
   "metadata": {},
   "source": [
    "### Load data"
   ]
  },
  {
   "cell_type": "code",
   "execution_count": null,
   "id": "d8142194-ba57-4f56-aba9-d26a49af64ff",
   "metadata": {},
   "outputs": [],
   "source": [
    "# cfg = get_cfg_defaults()\n",
    "# data = h5py.File('vanderpol/data/poisson_obs.h5')\n",
    "# Y = torch.tensor(np.array(data['Y']), dtype=torch.float32)\n",
    "# X = torch.tensor(np.array(data['X']), dtype=torch.float32)\n",
    "# C = torch.tensor(np.array(data['C']), dtype=torch.float32)\n",
    "# b = torch.tensor(np.array(data['bias']), dtype=torch.float32)"
   ]
  },
  {
   "cell_type": "markdown",
   "id": "c79fd8ab-ea67-4ca9-9e62-8ac1c6fd40b8",
   "metadata": {},
   "source": [
    "### Generate data "
   ]
  },
  {
   "cell_type": "code",
   "execution_count": null,
   "id": "26cc88a3-6032-4cdf-a5b1-d72115d22ad5",
   "metadata": {},
   "outputs": [],
   "source": [
    "delta = 5e-3  # time bin size\n",
    "n_trials = 1\n",
    "bin_size_ms = 5\n",
    "time_delta = bin_size_ms * 1e-3\n",
    "\n",
    "for trial in range(n_trials):\n",
    "    if trial < n_trials//2:\n",
    "        state00 = np.random.uniform(-0.5, 0.5)\n",
    "        state01 = np.random.uniform(-0.5, 0.5)\n",
    "    else:\n",
    "        state00 = np.random.uniform(-1.0, 1.0)\n",
    "        state01 = np.random.uniform(-1.0, 1.0)\n",
    "\n",
    "    state0 = (state00, state01)\n",
    "    \n",
    "system_parameters = {}\n",
    "system_parameters['mu'] = 1.5\n",
    "system_parameters['tau_1'] = 0.1\n",
    "system_parameters['tau_2'] = 0.1\n",
    "system_parameters['sigma'] = 0.1  # noise add into euler integration\n",
    "system_parameters['scale'] = 1 / 0.4"
   ]
  },
  {
   "cell_type": "code",
   "execution_count": null,
   "id": "42d2282f-2367-40ec-8ba5-f0b7c8f6add5",
   "metadata": {},
   "outputs": [],
   "source": [
    "#generate latent\n",
    "n_time_bins = 2000\n",
    "t = delta * torch.arange(n_time_bins)\n",
    "X = generate_noisy_van_der_pol(state0, t, system_parameters)\n",
    "\n",
    "n_latents = X.shape[1]\n",
    "n_time_bins = X.shape[0]\n",
    "\n",
    "n_neurons = 50\n",
    "#scale for same snr\n",
    "X = X @ np.array([[4,0],[0,4]])\n",
    "\n",
    "#generate observations Guassian observations\n",
    "C = np.random.normal(size=(n_latents, n_neurons))  # loading matrix\n",
    "d = np.random.normal(size=n_neurons)  # bias\n",
    "# observation\n",
    "Y = X @ C + d\n",
    "Y = Y + np.random.normal(size=Y.shape) * 0.1  # add some noise\n",
    "\n",
    "n_epochs = 150\n",
    "batch_size = 25\n",
    "time_delta = 5e-3"
   ]
  },
  {
   "cell_type": "code",
   "execution_count": null,
   "id": "82334af8-6a26-4055-b20e-a9dc30dacf90",
   "metadata": {},
   "outputs": [],
   "source": []
  },
  {
   "cell_type": "markdown",
   "id": "1f16d00a-7f82-46c3-b442-43382ba72d82",
   "metadata": {},
   "source": [
    "## Sequential Variational AutoEncoder\n",
    "\n",
    "We demonstrate that seqVAE can learn the latent dynamical system.\n",
    "For fast convergence, we fix the observation model parameters."
   ]
  },
  {
   "cell_type": "code",
   "execution_count": null,
   "id": "e60eded1-1f6e-4bda-a13c-99c1a359bc7e",
   "metadata": {},
   "outputs": [],
   "source": [
    "from vanderpol.config import get_cfg_defaults\n",
    "from vanderpol.SequentialVAE import NeuralVAE, SeqDataLoader\n",
    "from IPython.display import display, clear_output"
   ]
  },
  {
   "cell_type": "code",
   "execution_count": null,
   "id": "95341dae-1134-47b0-be79-dab5f6ebfcde",
   "metadata": {},
   "outputs": [],
   "source": [
    "vae = NeuralVAE(cfg, time_delta, n_neurons, n_latents, n_time_bins)\n",
    "vae.manually_set_readout_params(C, b)\n",
    "\n",
    "vae.decoder.C.bias.requires_grad_(False)\n",
    "vae.decoder.C.weight.requires_grad_(False)\n",
    "train_data_loader = SeqDataLoader((Y, X), batch_size)\n",
    "\n",
    "opt = torch.optim.Adam(vae.parameters(), lr=1e-2)"
   ]
  },
  {
   "cell_type": "code",
   "execution_count": null,
   "id": "1f9008ab-5f73-4590-9793-f75f969d12e1",
   "metadata": {},
   "outputs": [],
   "source": [
    "# fig, axs = plt.subplots(1, 2, figsize=(10, 3))\n",
    "%matplotlib notebook\n",
    "%matplotlib inline\n",
    "# fig = plt.figure()\n",
    "# axs = fig.add_subplot(1, 1, 1)\n",
    "total_loss = []\n",
    "fig, axs = plt.subplots(1, 3, figsize=(15, 4))\n",
    "axs_range = {'x_min': -1.5, 'x_max': 1.5,\n",
    "             'y_min': -1.5, 'y_max': 1.5}\n",
    "\n",
    "\n",
    "for epoch in range(n_epochs):\n",
    "    batch_loss = []\n",
    "\n",
    "    for batch_idx, (y, x) in enumerate(train_data_loader):\n",
    "        loss, z, mu_t, log_var_t = vae(y, y, 1.0)\n",
    "        batch_loss.append(loss.item())\n",
    "        loss.backward()\n",
    "        torch.nn.utils.clip_grad_norm_(vae.parameters(), max_norm=1.0, norm_type=2)\n",
    "        opt.step()\n",
    "        opt.zero_grad()\n",
    "\n",
    "    total_loss.append(np.mean(batch_loss))\n",
    "\n",
    "    if epoch % 1 == 0:\n",
    "        axs[0].cla()\n",
    "        axs[0].set_ylim(-1.75, 1.75)\n",
    "        axs[0].plot(z[:, 0, 0].detach().numpy())\n",
    "        axs[0].plot(x[0, :, 0].detach().numpy())\n",
    "        axs[0].set_xlabel('time'); axs[0].set_title('trial 0')\n",
    "\n",
    "        axs[1].set_xlim(0, epoch)\n",
    "        axs[1].cla()\n",
    "        axs[1].plot(total_loss)\n",
    "        axs[1].set_title('loss'); axs[1].set_xlabel('epoch'); axs[1].grid(True)\n",
    "\n",
    "        display(fig)\n",
    "        clear_output(wait=True)\n",
    "\n",
    "    if epoch % 5 == 0:\n",
    "        with torch.no_grad():\n",
    "            axs[2].cla()\n",
    "            dynamics_fn = torch.nn.Sequential(*[vae.decoder.p_mlp, vae.decoder.p_fc_mu])\n",
    "            plot_vector_field(dynamics_fn, axs[2], axs_range)\n",
    "            axs[2].set_title('phase portrait')\n",
    "\n",
    "dynamics_fn = torch.nn.Sequential(*[vae.decoder.p_mlp, vae.decoder.p_fc_mu])"
   ]
  },
  {
   "cell_type": "code",
   "execution_count": null,
   "id": "758d2695-a0aa-438e-b470-43f9ac399fd0",
   "metadata": {},
   "outputs": [],
   "source": [
    "fig, axs = plt.subplots()\n",
    "axs_range = {'x_min': -1.5, 'x_max': 1.5,\n",
    "             'y_min': -1.5, 'y_max': 1.5}\n",
    "\n",
    "dynamics_fn = torch.nn.Sequential(*[vae.decoder.p_mlp, vae.decoder.p_fc_mu])\n",
    "plot_vector_field(dynamics_fn, axs, axs_range)"
   ]
  },
  {
   "cell_type": "code",
   "execution_count": null,
   "id": "4cf6c0db-8b7f-4b50-8f90-71d4b6043ded",
   "metadata": {},
   "outputs": [],
   "source": []
  },
  {
   "cell_type": "markdown",
   "id": "88c7d4f6-3b03-4d92-8463-3e26226af674",
   "metadata": {},
   "source": [
    "## Variational Joint Filtering"
   ]
  },
  {
   "cell_type": "code",
   "execution_count": null,
   "id": "1b6bd717-8584-4d67-8da9-68eef4a936db",
   "metadata": {},
   "outputs": [],
   "source": [
    "# Setup and fit VJF \n",
    "n_rbf = 50  # number of radial basis functions for dynamical system\n",
    "hidden_sizes = [20]  # size of hidden layers of recognition model\n",
    "udim = 0\n",
    "likelihood = 'gaussian'  # gaussian or poisson\n",
    "\n",
    "model_gauss = VJF.make_model(n_neurons, n_latents, udim=udim, n_rbf=n_rbf, hidden_sizes=hidden_sizes, likelihood=likelihood)\n",
    "\n",
    "m_gauss, logvar, _ = model_gauss.fit(Y, max_iter=150)  # fit and return list of state posterior tuples (mean, log variance)\n",
    "\n",
    "m_gauss = m_gauss.detach().numpy().squeeze()"
   ]
  },
  {
   "cell_type": "code",
   "execution_count": null,
   "id": "13e683f2-4952-441f-9816-83707cc00aad",
   "metadata": {},
   "outputs": [],
   "source": [
    "# regress to account for invariance\n",
    "X_hat = m_gauss #rearrange(m_vdp, 'batch time lat ->  (batch time) lat')\n",
    "S = np.linalg.pinv(X_hat) @ X.reshape(n_trials * n_time_bins, n_latents)\n",
    "X_hat_tilde = X_hat @ S\n",
    "X_hat_tilde = X_hat_tilde.reshape(n_trials, n_time_bins, n_latents)\n",
    "\n",
    "# Plot\n",
    "fig, axs = plt.subplots(2, 1, sharex='all')\n",
    "print(f'X_hat shape: {X_hat.shape}')\n",
    "axs[0].plot(X[:, 0])\n",
    "axs[0].plot(X_hat_tilde[trial, :, 0])\n",
    "\n",
    "axs[1].plot(X[:, 1])\n",
    "axs[1].plot(X_hat_tilde[trial, :, 1])\n",
    "plt.legend([\"Data\", \"Fit\"])\n",
    "plt.show()"
   ]
  },
  {
   "cell_type": "code",
   "execution_count": null,
   "id": "de006de8-07dd-4cab-b981-e52a38d2d9df",
   "metadata": {},
   "outputs": [],
   "source": [
    "# Draw the inferred velocity field\n",
    "\n",
    "ax = fig.add_subplot(223)\n",
    "r = np.mean(np.abs(m_gauss).max())  # determine the limits of plot\n",
    "\n",
    "Xm, Ym, XYm = grid(51, [-1.5*r, 1.5*r])\n",
    "Um, Vm = model_gauss.transition.velocity(torch.tensor(XYm)).detach().numpy().T  # get velocity\n",
    "Um = np.reshape(Um, Xm.shape)\n",
    "Vm = np.reshape(Vm, Ym.shape)\n",
    "plt.streamplot(Xm, Ym, Um, Vm)\n",
    "plt.plot(*m_gauss.T, color='C1', alpha=0.5, zorder=5)\n",
    "plt.title('Velocity field');"
   ]
  },
  {
   "cell_type": "code",
   "execution_count": null,
   "id": "b283c0fb-cc69-48e7-b626-a5300319c46d",
   "metadata": {},
   "outputs": [],
   "source": []
  }
 ],
 "metadata": {
  "kernelspec": {
   "display_name": "Python 3 (ipykernel)",
   "language": "python",
   "name": "python3"
  },
  "language_info": {
   "codemirror_mode": {
    "name": "ipython",
    "version": 3
   },
   "file_extension": ".py",
   "mimetype": "text/x-python",
   "name": "python",
   "nbconvert_exporter": "python",
   "pygments_lexer": "ipython3",
   "version": "3.9.0"
  }
 },
 "nbformat": 4,
 "nbformat_minor": 5
}
