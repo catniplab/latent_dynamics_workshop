{
 "cells": [
  {
   "cell_type": "markdown",
   "metadata": {},
   "source": [
    "# Sequential Variational AutoEncoder\n",
    "\n",
    "We demonstrate that seqVAE can learn the latent dynamical system.\n",
    "For fast convergence, we fix the observation model parameters."
   ]
  },
  {
   "cell_type": "code",
   "execution_count": null,
   "metadata": {},
   "outputs": [],
   "source": [
    "import h5py\n",
    "import torch\n",
    "import numpy as np\n",
    "import matplotlib.pyplot as plt\n",
    "\n",
    "from config import get_cfg_defaults\n",
    "from SequentialVAE import NeuralVAE, SeqDataLoader\n",
    "from IPython.display import display, clear_output\n",
    "\n",
    "# %matplotlib inline\n",
    "# %matplotlib notebook"
   ]
  },
  {
   "cell_type": "code",
   "execution_count": null,
   "metadata": {
    "pycharm": {
     "name": "#%%\n"
    }
   },
   "outputs": [],
   "source": [
    "cfg = get_cfg_defaults()\n",
    "data = h5py.File('data/poisson_obs.h5')\n",
    "Y = torch.tensor(np.array(data['Y']), dtype=torch.float32)\n",
    "X = torch.tensor(np.array(data['X']), dtype=torch.float32)\n",
    "C = torch.tensor(np.array(data['C']), dtype=torch.float32)\n",
    "b = torch.tensor(np.array(data['bias']), dtype=torch.float32)\n",
    "\n",
    "n_epochs = 150\n",
    "batch_size = 25\n",
    "time_delta = 5e-3\n",
    "n_latents = X.shape[2]\n",
    "n_neurons = Y.shape[2]\n",
    "n_time_bins = Y.shape[1]"
   ]
  },
  {
   "cell_type": "code",
   "execution_count": null,
   "metadata": {
    "pycharm": {
     "name": "#%%\n"
    }
   },
   "outputs": [],
   "source": [
    "vae = NeuralVAE(cfg, time_delta, n_neurons, n_latents, n_time_bins)\n",
    "vae.manually_set_readout_params(C, b)\n",
    "\n",
    "vae.decoder.C.bias.requires_grad_(False)\n",
    "vae.decoder.C.weight.requires_grad_(False)\n",
    "train_data_loader = SeqDataLoader((Y, X), batch_size)\n",
    "\n",
    "opt = torch.optim.Adam(vae.parameters(), lr=1e-2)"
   ]
  },
  {
   "cell_type": "code",
   "execution_count": null,
   "metadata": {
    "collapsed": false,
    "jupyter": {
     "outputs_hidden": false
    },
    "pycharm": {
     "name": "#%%\n"
    }
   },
   "outputs": [],
   "source": [
    "def plot_vector_field(dynamics_fn, axs, axs_range):\n",
    "    x = np.linspace(min(axs_range['x_min'], -1.5), max(axs_range['x_max'],1.5), 50)\n",
    "    y = np.linspace(min(axs_range['y_min'], -1.5), max(axs_range['y_max'], 1.5), 50)\n",
    "\n",
    "    X, Y = np.meshgrid(x, y)\n",
    "    u, v = np.zeros(X.shape), np.zeros(Y.shape)\n",
    "    NI, NJ = Y.shape\n",
    "\n",
    "    for i in range(NI):\n",
    "        for j in range(NJ):\n",
    "            x = X[i, j]\n",
    "            y = Y[i, j]\n",
    "\n",
    "            vec_in = torch.tensor([x, y], dtype=torch.float32)\n",
    "            vec_out = dynamics_fn(vec_in)\n",
    "            s = (vec_out - vec_in).cpu().data.numpy()\n",
    "\n",
    "            u[i, j] = s[0]\n",
    "            v[i, j] = s[1]\n",
    "\n",
    "    axs.streamplot(X, Y, u, v, color='black', linewidth=0.5, arrowsize=0.5)"
   ]
  },
  {
   "cell_type": "code",
   "execution_count": null,
   "metadata": {
    "collapsed": false,
    "jupyter": {
     "outputs_hidden": false
    },
    "pycharm": {
     "is_executing": true,
     "name": "#%%\n"
    }
   },
   "outputs": [],
   "source": [
    "# fig, axs = plt.subplots(1, 2, figsize=(10, 3))\n",
    "%matplotlib notebook\n",
    "%matplotlib inline\n",
    "# fig = plt.figure()\n",
    "# axs = fig.add_subplot(1, 1, 1)\n",
    "total_loss = []\n",
    "fig, axs = plt.subplots(1, 3, figsize=(15, 4))\n",
    "axs_range = {'x_min': -1.5, 'x_max': 1.5,\n",
    "             'y_min': -1.5, 'y_max': 1.5}\n",
    "\n",
    "\n",
    "for epoch in range(n_epochs):\n",
    "    batch_loss = []\n",
    "\n",
    "    for batch_idx, (y, x) in enumerate(train_data_loader):\n",
    "        loss, z, mu_t, log_var_t = vae(y, y, 1.0)\n",
    "        batch_loss.append(loss.item())\n",
    "        loss.backward()\n",
    "        torch.nn.utils.clip_grad_norm_(vae.parameters(), max_norm=1.0, norm_type=2)\n",
    "        opt.step()\n",
    "        opt.zero_grad()\n",
    "\n",
    "    total_loss.append(np.mean(batch_loss))\n",
    "\n",
    "    if epoch % 1 == 0:\n",
    "        axs[0].cla()\n",
    "        axs[0].set_ylim(-1.75, 1.75)\n",
    "        axs[0].plot(z[:, 0, 0].detach().numpy())\n",
    "        axs[0].plot(x[0, :, 0].detach().numpy())\n",
    "        axs[0].set_xlabel('time'); axs[0].set_title('trial 0')\n",
    "\n",
    "        axs[1].set_xlim(0, epoch)\n",
    "        axs[1].cla()\n",
    "        axs[1].plot(total_loss)\n",
    "        axs[1].set_title('loss'); axs[1].set_xlabel('epoch'); axs[1].grid(True)\n",
    "\n",
    "        display(fig)\n",
    "        clear_output(wait=True)\n",
    "\n",
    "    if epoch % 5 == 0:\n",
    "        with torch.no_grad():\n",
    "            axs[2].cla()\n",
    "            dynamics_fn = torch.nn.Sequential(*[vae.decoder.p_mlp, vae.decoder.p_fc_mu])\n",
    "            plot_vector_field(dynamics_fn, axs[2], axs_range)\n",
    "            axs[2].set_title('phase portrait')\n",
    "\n",
    "dynamics_fn = torch.nn.Sequential(*[vae.decoder.p_mlp, vae.decoder.p_fc_mu])"
   ]
  },
  {
   "cell_type": "code",
   "execution_count": null,
   "metadata": {
    "pycharm": {
     "is_executing": true,
     "name": "#%%\n"
    }
   },
   "outputs": [],
   "source": [
    "fig, axs = plt.subplots()\n",
    "axs_range = {'x_min': -1.5, 'x_max': 1.5,\n",
    "             'y_min': -1.5, 'y_max': 1.5}\n",
    "\n",
    "dynamics_fn = torch.nn.Sequential(*[vae.decoder.p_mlp, vae.decoder.p_fc_mu])\n",
    "plot_vector_field(dynamics_fn, axs, axs_range)"
   ]
  },
  {
   "cell_type": "code",
   "execution_count": null,
   "metadata": {
    "pycharm": {
     "is_executing": true,
     "name": "#%%\n"
    }
   },
   "outputs": [],
   "source": []
  }
 ],
 "metadata": {
  "kernelspec": {
   "display_name": "Python 3 (ipykernel)",
   "language": "python",
   "name": "python3"
  },
  "language_info": {
   "codemirror_mode": {
    "name": "ipython",
    "version": 3
   },
   "file_extension": ".py",
   "mimetype": "text/x-python",
   "name": "python",
   "nbconvert_exporter": "python",
   "pygments_lexer": "ipython3",
   "version": "3.10.6"
  }
 },
 "nbformat": 4,
 "nbformat_minor": 4
}
