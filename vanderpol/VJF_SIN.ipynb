{
 "cells": [
  {
   "cell_type": "code",
   "execution_count": null,
   "id": "1404ff2a-67a7-461c-ad9b-f4b8aa473f0e",
   "metadata": {},
   "outputs": [],
   "source": [
    "import math\n",
    "\n",
    "import matplotlib.pyplot as plt\n",
    "import numpy as np\n",
    "import torch\n",
    "\n",
    "from vjf.model import VJF\n",
    "\n",
    "import h5py\n",
    "from einops import rearrange\n",
    "\n",
    "def grid(n, lims):\n",
    "    xedges = np.linspace(*lims, n)\n",
    "    yedges = np.linspace(*lims, n)\n",
    "    X, Y = np.meshgrid(xedges, yedges)\n",
    "    grids = np.column_stack([X.reshape(-1), Y.reshape(-1)])\n",
    "    return X, Y, grids"
   ]
  },
  {
   "cell_type": "code",
   "execution_count": null,
   "id": "392f3c23-9971-485c-af7b-23bce2288825",
   "metadata": {},
   "outputs": [],
   "source": [
    "# Setup precision and random seeds\n",
    "torch.set_default_dtype(torch.double)  # using double precision\n",
    "np.random.seed(0)\n",
    "torch.manual_seed(0)"
   ]
  },
  {
   "cell_type": "code",
   "execution_count": null,
   "id": "924b7c49-38b8-4f31-bbd9-9c9af519af91",
   "metadata": {},
   "outputs": [],
   "source": [
    "# Generate data\n",
    "T = 100.  # length\n",
    "dt = 1e-2 * math.pi  # size of time step\n",
    "xdim = 2  # state dimensionality\n",
    "ydim = 20  # obsetvation dimensionality\n",
    "udim = 0  # size of control input\n",
    "\n",
    "C = torch.randn(xdim, ydim)  # loading matrix\n",
    "d = torch.randn(ydim)  # bias\n",
    "\n",
    "t = torch.arange(0, T, step=dt)  # time point to be evaluated\n",
    "x = torch.column_stack((torch.sin(t), torch.cos(t)))  # latent trajectory\n",
    "x = x + torch.randn_like(x) * 0.1  # add some noise\n",
    "\n",
    "# observation\n",
    "y = x @ C + d\n",
    "y = y + torch.randn_like(y) * 0.1  # add some noise\n",
    "\n",
    "# Plot latent trajectory\n",
    "fig = plt.figure()\n",
    "ax = fig.add_subplot(221)\n",
    "plt.plot(x.numpy())\n",
    "plt.title('True state')"
   ]
  },
  {
   "cell_type": "code",
   "execution_count": null,
   "id": "4817bb25-5841-47ad-87a0-7474d9d51b2a",
   "metadata": {},
   "outputs": [],
   "source": [
    "# Setup and fit VJF \n",
    "n_rbf = 100  # number of radial basis functions for dynamical system\n",
    "hidden_sizes = [20]  # size of hidden layers of recognition model\n",
    "likelihood = 'gaussian'  # gaussian or poisson\n",
    "# likelihood = 'poisson'  # gaussian or poisson\n",
    "\n",
    "model = VJF.make_model(ydim, xdim, udim=udim, n_rbf=n_rbf, hidden_sizes=hidden_sizes, likelihood=likelihood)\n",
    "\n",
    "m, logvar, _ = model.fit(y, max_iter=150)  # fit and return list of state posterior tuples (mean, log variance)\n",
    "\n",
    "m = m.detach().numpy().squeeze()"
   ]
  },
  {
   "cell_type": "code",
   "execution_count": null,
   "id": "9c25f4a3-d5b1-4a8c-a332-facdfa05854d",
   "metadata": {},
   "outputs": [],
   "source": [
    "# Plot\n",
    "x = x.numpy()\n",
    "X_hat = m \n",
    "S = np.linalg.pinv(X_hat) @ x.reshape(n_time_bins, 2)\n",
    "X_hat_tilde = X_hat @ S\n",
    "X_hat_tilde = X_hat_tilde.reshape(n_time_bins, 2)\n",
    "\n",
    "fig, axs = plt.subplots(2,1, sharex='all')\n",
    "axs[0].plot(x[:, 0])\n",
    "axs[0].plot(X_hat_tilde[:, 0])\n",
    "\n",
    "axs[1].plot(x[:, 1])\n",
    "axs[1].plot(X_hat_tilde[:, 1])\n",
    "plt.legend([\"Data\", \"Fit\"])\n",
    "plt.show()"
   ]
  },
  {
   "cell_type": "code",
   "execution_count": null,
   "id": "95951e49-49f0-4f82-89d0-db3d88351a6c",
   "metadata": {},
   "outputs": [],
   "source": [
    "# Draw the inferred velocity field\n",
    "\n",
    "ax = fig.add_subplot(223)\n",
    "r = np.mean(np.abs(m).max())  # determine the limits of plot\n",
    "\n",
    "Xm, Ym, XYm = grid(51, [-1.5*r, 1.5*r])\n",
    "Um, Vm = model.transition.velocity(torch.tensor(XYm)).detach().numpy().T  # get velocity\n",
    "Um = np.reshape(Um, Xm.shape)\n",
    "Vm = np.reshape(Vm, Ym.shape)\n",
    "plt.streamplot(Xm, Ym, Um, Vm)\n",
    "plt.plot(*m.T, color='C1', alpha=0.5, zorder=5)\n",
    "plt.title('Velocity field')"
   ]
  },
  {
   "cell_type": "code",
   "execution_count": null,
   "id": "5cef70cf-8f1f-40d8-9082-78dff743a6f3",
   "metadata": {},
   "outputs": [],
   "source": []
  },
  {
   "cell_type": "code",
   "execution_count": null,
   "id": "acb44065-f030-4843-91d8-abb1d1ddc2d0",
   "metadata": {},
   "outputs": [],
   "source": []
  },
  {
   "cell_type": "markdown",
   "id": "dfb6bd79-c9c9-491a-9f61-b6a6ec45c9b0",
   "metadata": {},
   "source": [
    "## Poisson"
   ]
  },
  {
   "cell_type": "code",
   "execution_count": null,
   "id": "683f0e4e-4406-4367-b294-b3997957dba0",
   "metadata": {},
   "outputs": [],
   "source": [
    "#generate Poisson observations: spikes\n",
    "delta = 5e-3  # time bin size\n",
    "C = np.random.normal(size=(n_neurons, n_latents))\n",
    "max_c = .8\n",
    "C = np.where(np.abs(C)>max_c, np.sign(C)*max_c, C)\n",
    "C = 4*C\n",
    "b = np.log(0.5 + 0.05 * np.random.rand(n_neurons))  \n",
    "rates = np.exp(x@C.T + b)\n",
    "r = delta * rates\n",
    "\n",
    "Y_unchopped = np.random.poisson(r) \n",
    "Y = np.where(Y_unchopped>1, 1, Y_unchopped)"
   ]
  },
  {
   "cell_type": "code",
   "execution_count": null,
   "id": "292f321e-a06e-4a58-91ee-21f7bd4dd417",
   "metadata": {},
   "outputs": [],
   "source": [
    "plt.plot(r[:,0])"
   ]
  },
  {
   "cell_type": "code",
   "execution_count": null,
   "id": "624ce812-6749-4ab6-8647-5a77578a2ddf",
   "metadata": {},
   "outputs": [],
   "source": [
    "cidx1 = np.lexsort((C[:,0], C[:,1]), axis=0)\n",
    "cidx2 = np.lexsort((C[:,1], C[:,0]), axis=0)\n",
    "\n",
    "raster = []\n",
    "rasterSorted = []\n",
    "for k in range(n_neurons):\n",
    "    raster.append(np.nonzero(Y.T[k,:])[0]/nT*T)\n",
    "    rasterSorted.append(np.nonzero(Y.T[cidx1[k],:])[0]/nT*T)\n",
    "\n",
    "plt.subplots(1,2, figsize=(10, 4))\n",
    "plt.subplot(1,2,1)\n",
    "plt.eventplot(raster, lw=0.5, color='k', label='spikes')\n",
    "plt.xlim(0, T); plt.xlabel('time'); plt.yticks([]); plt.title('raster plot'); plt.ylabel('neurons');\n",
    "plt.subplot(1,2,2)\n",
    "plt.eventplot(rasterSorted, lw=0.5, color='k', label='spikes')\n",
    "plt.xlim(0, T); plt.xlabel('time'); plt.yticks([]); plt.title('raster plot (again)'); plt.ylabel('sorted neurons');"
   ]
  },
  {
   "cell_type": "code",
   "execution_count": null,
   "id": "48c51913-0e51-477f-8f39-7b5e3a929ad3",
   "metadata": {},
   "outputs": [],
   "source": [
    "# Setup and fit VJF \n",
    "n_rbf = 100  # number of radial basis functions for dynamical system\n",
    "hidden_sizes = [50]  # size of hidden layers of recognition model\n",
    "# likelihood = 'gaussian'  # gaussian or poisson\n",
    "likelihood = 'poisson'  # gaussian or poisson\n",
    "\n",
    "model = VJF.make_model(n_neurons, n_latents, udim=udim, n_rbf=n_rbf, hidden_sizes=hidden_sizes, likelihood=likelihood)\n",
    "\n",
    "m, logvar, _ = model.fit(Y, max_iter=150)  # fit and return list of state posterior tuples (mean, log variance)\n",
    "\n",
    "m = m.detach().numpy().squeeze()"
   ]
  },
  {
   "cell_type": "code",
   "execution_count": null,
   "id": "38f21ee5-78cf-4f5f-81d4-61210a6bfc2b",
   "metadata": {},
   "outputs": [],
   "source": [
    "# Plot\n",
    "X_hat = m \n",
    "S = np.linalg.pinv(X_hat) @ x.reshape(n_time_bins, 2)\n",
    "X_hat_tilde = X_hat @ S\n",
    "X_hat_tilde = X_hat_tilde.reshape(n_time_bins, 2)\n",
    "\n",
    "fig, axs = plt.subplots(2,1, sharex='all')\n",
    "axs[0].plot(x[:, 0])\n",
    "axs[0].plot(X_hat_tilde[:, 0])\n",
    "\n",
    "axs[1].plot(x[:, 1])\n",
    "axs[1].plot(X_hat_tilde[:, 1])\n",
    "plt.legend([\"Data\", \"Fit\"])\n",
    "plt.show()"
   ]
  },
  {
   "cell_type": "code",
   "execution_count": null,
   "id": "b2616b33-b804-4900-ae05-e2fe2bd78c81",
   "metadata": {},
   "outputs": [],
   "source": [
    "# Draw the inferred velocity field\n",
    "\n",
    "ax = fig.add_subplot(223)\n",
    "r = np.mean(np.abs(m).max())  # determine the limits of plot\n",
    "\n",
    "Xm, Ym, XYm = grid(51, [-1.5*r, 1.5*r])\n",
    "Um, Vm = model.transition.velocity(torch.tensor(XYm)).detach().numpy().T  # get velocity\n",
    "Um = np.reshape(Um, Xm.shape)\n",
    "Vm = np.reshape(Vm, Ym.shape)\n",
    "plt.streamplot(Xm, Ym, Um, Vm)\n",
    "plt.plot(*m.T, color='C1', alpha=0.5, zorder=5)\n",
    "plt.title('Velocity field')"
   ]
  },
  {
   "cell_type": "code",
   "execution_count": null,
   "id": "81cf5d4a-1730-4362-aa47-f030482107eb",
   "metadata": {},
   "outputs": [],
   "source": []
  }
 ],
 "metadata": {
  "kernelspec": {
   "display_name": "Python 3 (ipykernel)",
   "language": "python",
   "name": "python3"
  },
  "language_info": {
   "codemirror_mode": {
    "name": "ipython",
    "version": 3
   },
   "file_extension": ".py",
   "mimetype": "text/x-python",
   "name": "python",
   "nbconvert_exporter": "python",
   "pygments_lexer": "ipython3",
   "version": "3.9.0"
  }
 },
 "nbformat": 4,
 "nbformat_minor": 5
}
