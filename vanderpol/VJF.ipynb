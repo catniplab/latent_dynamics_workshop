{
 "cells": [
  {
   "cell_type": "code",
   "execution_count": 23,
   "metadata": {
    "collapsed": true
   },
   "outputs": [],
   "source": [
    "import math\n",
    "import h5py\n",
    "import torch\n",
    "import numpy as np\n",
    "from vjf.model import VJF\n",
    "import matplotlib.pyplot as plt\n",
    "from einops import rearrange\n",
    "\n",
    "from config import get_cfg_defaults\n",
    "# pip install git+https://github.com/catniplab/vjf.git\n"
   ]
  },
  {
   "cell_type": "code",
   "execution_count": 24,
   "outputs": [],
   "source": [
    "# # loading matrix\n",
    "# n_latents = 2\n",
    "# n_neurons = 150\n",
    "# n_time_bins = 1000\n",
    "#\n",
    "# n_trials = 5\n",
    "# bin_size_ms = 5\n",
    "# time_delta = bin_size_ms * 1e-3\n",
    "#\n",
    "# b = torch.randn(n_neurons)\n",
    "# C = torch.randn(n_latents, n_neurons)\n",
    "#\n",
    "# # latent states\n",
    "# t = torch.arange(0, n_time_bins)*time_delta  # time point to be evaluated\n",
    "# X = torch.column_stack((torch.sin(t), torch.cos(t)))  # latent trajectory\n",
    "# X = X + 0.1 * torch.randn_like(X)\n",
    "#\n",
    "# # observations\n",
    "# Y = X @ C + b\n",
    "# Y = Y + 0.1 * torch.randn_like(Y)"
   ],
   "metadata": {
    "collapsed": false
   }
  },
  {
   "cell_type": "code",
   "execution_count": 28,
   "outputs": [],
   "source": [
    "# load and prepare data\n",
    "\n",
    "cfg = get_cfg_defaults()\n",
    "data = h5py.File('data/poisson_obs.h5')\n",
    "\n",
    "\n",
    "Y = np.array(data['Y'])\n",
    "X = np.array(data['X'])\n",
    "C = np.array(data['C'])\n",
    "b = np.array(data['bias'])\n",
    "\n",
    "# setup parameters\n",
    "n_trials = 1\n",
    "bin_size_ms = 5\n",
    "time_delta = bin_size_ms * 1e-3\n",
    "\n",
    "n_latents = X.shape[2]\n",
    "n_neurons = Y.shape[2]\n",
    "n_time_bins = Y.shape[1]\n",
    "\n",
    "Y = Y[0]\n",
    "X = X[0]"
   ],
   "metadata": {
    "collapsed": false
   }
  },
  {
   "cell_type": "code",
   "execution_count": null,
   "outputs": [],
   "source": [
    "# Setup and fit VJF\n",
    "n_rbf = 64  # number of radial basis functions for dynamical system\n",
    "hidden_sizes = [32]  # size of hidden layers of recognition model\n",
    "# likelihood = 'gaussian'  # gaussian or poisson\n",
    "likelihood = 'poisson'  # gaussian or poisson\n",
    "\n",
    "model = VJF.make_model(n_neurons, n_latents, udim=0, n_rbf=n_rbf, hidden_sizes=hidden_sizes, likelihood=likelihood)"
   ],
   "metadata": {
    "collapsed": false
   }
  },
  {
   "cell_type": "code",
   "execution_count": null,
   "outputs": [],
   "source": [
    "m, logvar, _ = model.fit(Y, max_iter=100)  # fit and return list of state posterior tuples (mean, log variance)\n",
    "m = m.detach().numpy().squeeze()"
   ],
   "metadata": {
    "collapsed": false,
    "pycharm": {
     "is_executing": true
    }
   }
  },
  {
   "cell_type": "code",
   "execution_count": null,
   "outputs": [],
   "source": [
    "# regress to account for invariance\n",
    "X_hat = m #rearrange(m, 'batch time lat ->  (batch time) lat')\n",
    "S = np.linalg.pinv(X_hat) @ X.reshape(n_trials * n_time_bins, n_latents)\n",
    "X_hat_tilde = X_hat @ S\n",
    "X_hat_tilde = X_hat_tilde.reshape(n_trials, n_time_bins, n_latents)\n",
    "\n",
    "# Plot\n",
    "fig, axs = plt.subplots(2, 1, sharex='all')\n",
    "print(f'X_hat shape: {X_hat.shape}')\n",
    "axs[0].plot(X_hat_tilde[0, :, 0])\n",
    "axs[0].plot(X[0, :, 0])\n",
    "axs[1].plot(X_hat_tilde[0, :, 1])\n",
    "axs[1].plot(X[0, :, 1])\n",
    "plt.show()"
   ],
   "metadata": {
    "collapsed": false
   }
  },
  {
   "cell_type": "code",
   "execution_count": null,
   "outputs": [],
   "source": [
    "# plot the true and inferred latents of trial 0\n",
    "trial_num = 1\n",
    "fig, [ax0, ax1] = plt.subplots(1, 2, figsize=(10,5))\n",
    "_= ax0.plot(X[trial_num,:,0], X[trial_num,:,1])\n",
    "_= ax1.plot(X_hat_tilde[trial_num,:,0], X_hat_tilde[trial_num,:,1])"
   ],
   "metadata": {
    "collapsed": false
   }
  },
  {
   "cell_type": "code",
   "execution_count": null,
   "outputs": [],
   "source": [],
   "metadata": {
    "collapsed": false
   }
  }
 ],
 "metadata": {
  "kernelspec": {
   "display_name": "Python 3",
   "language": "python",
   "name": "python3"
  },
  "language_info": {
   "codemirror_mode": {
    "name": "ipython",
    "version": 2
   },
   "file_extension": ".py",
   "mimetype": "text/x-python",
   "name": "python",
   "nbconvert_exporter": "python",
   "pygments_lexer": "ipython2",
   "version": "2.7.6"
  }
 },
 "nbformat": 4,
 "nbformat_minor": 0
}
