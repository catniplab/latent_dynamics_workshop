{
 "cells": [
  {
   "cell_type": "code",
   "execution_count": null,
   "metadata": {
    "collapsed": true
   },
   "outputs": [],
   "source": [
    "import math\n",
    "import h5py\n",
    "import torch\n",
    "import numpy as np\n",
    "from vjf.model import VJF\n",
    "import matplotlib.pyplot as plt\n",
    "\n",
    "from config import get_cfg_defaults\n",
    "# pip install git+https://github.com/catniplab/vjf.git\n",
    "\n",
    "cfg = get_cfg_defaults()\n",
    "data = h5py.File('data/poisson_obs.h5')\n",
    "\n",
    "n_latents = 2\n",
    "n_neurons = 150\n",
    "n_time_bins = 1000\n",
    "\n",
    "n_trials = 5\n",
    "bin_size_ms = 5\n",
    "time_delta = bin_size_ms * 1e-3"
   ]
  },
  {
   "cell_type": "code",
   "execution_count": null,
   "outputs": [],
   "source": [
    "# loading matrix\n",
    "b = torch.randn(n_neurons)\n",
    "C = torch.randn(n_latents, n_neurons)\n",
    "\n",
    "# latent states\n",
    "t = torch.arange(0, n_time_bins, step=time_delta)  # time point to be evaluated\n",
    "X = torch.column_stack((torch.sin(t), torch.cos(t)))  # latent trajectory\n",
    "X = X + 0.1 * torch.randn_like(X)\n",
    "\n",
    "# observations\n",
    "Y = X @ C + b\n",
    "Y = Y + 0.1 * torch.randn_like(Y)"
   ],
   "metadata": {
    "collapsed": false,
    "pycharm": {
     "name": "#%%\n"
    }
   }
  },
  {
   "cell_type": "code",
   "execution_count": null,
   "outputs": [],
   "source": [
    "# Setup and fit VJF\n",
    "n_rbf = 100  # number of radial basis functions for dynamical system\n",
    "hidden_sizes = [20]  # size of hidden layers of recognition model\n",
    "likelihood = 'gaussian'  # gaussian or poisson\n",
    "# likelihood = 'poisson'  # gaussian or poisson\n",
    "\n",
    "model = VJF.make_model(n_neurons, n_neurons, udim=0, n_rbf=n_rbf, hidden_sizes=hidden_sizes, likelihood=likelihood)\n",
    "m, logvar, _ = model.fit(Y, max_iter=150)  # fit and return list of state posterior tuples (mean, log variance)\n",
    "m = m.detach().numpy().squeeze()"
   ],
   "metadata": {
    "collapsed": false,
    "pycharm": {
     "name": "#%%\n"
    }
   }
  }
 ],
 "metadata": {
  "kernelspec": {
   "display_name": "Python 3",
   "language": "python",
   "name": "python3"
  },
  "language_info": {
   "codemirror_mode": {
    "name": "ipython",
    "version": 2
   },
   "file_extension": ".py",
   "mimetype": "text/x-python",
   "name": "python",
   "nbconvert_exporter": "python",
   "pygments_lexer": "ipython2",
   "version": "2.7.6"
  }
 },
 "nbformat": 4,
 "nbformat_minor": 0
}