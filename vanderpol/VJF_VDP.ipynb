{
 "cells": [
  {
   "cell_type": "code",
   "execution_count": 2,
   "id": "c356ef13-27f7-4898-a8fd-e75a500cd6b0",
   "metadata": {},
   "outputs": [],
   "source": [
    "import math\n",
    "\n",
    "import matplotlib.pyplot as plt\n",
    "import numpy as np\n",
    "import torch\n",
    "\n",
    "from vjf.model import VJF\n",
    "\n",
    "import h5py\n",
    "from einops import rearrange\n",
    "\n",
    "import sys\n",
    "sys.path.append(\"../\")\n",
    "\n",
    "from code_pack.generate_vdp_data import generate_van_der_pol, generate_noisy_van_der_pol\n",
    "\n",
    "def grid(n, lims):\n",
    "    xedges = np.linspace(*lims, n)\n",
    "    yedges = np.linspace(*lims, n)\n",
    "    X, Y = np.meshgrid(xedges, yedges)\n",
    "    grids = np.column_stack([X.reshape(-1), Y.reshape(-1)])\n",
    "    return X, Y, grids\n"
   ]
  },
  {
   "cell_type": "code",
   "execution_count": null,
   "id": "21bf1659-d92b-412d-a133-7918f9bc7a00",
   "metadata": {},
   "outputs": [],
   "source": [
    "# Setup precision and random seeds\n",
    "torch.set_default_dtype(torch.double)  # using double precision\n",
    "np.random.seed(0)\n",
    "torch.manual_seed(0)"
   ]
  },
  {
   "cell_type": "code",
   "execution_count": 3,
   "id": "b107f324-f0bd-4fb5-8ca0-334657b3d071",
   "metadata": {},
   "outputs": [],
   "source": [
    "delta = 5e-3  # time bin size\n",
    "n_trials = 1\n",
    "bin_size_ms = 5\n",
    "time_delta = bin_size_ms * 1e-3\n",
    "\n",
    "for trial in range(n_trials):\n",
    "    if trial < n_trials//2:\n",
    "        state00 = np.random.uniform(-0.5, 0.5)\n",
    "        state01 = np.random.uniform(-0.5, 0.5)\n",
    "    else:\n",
    "        state00 = np.random.uniform(-1.0, 1.0)\n",
    "        state01 = np.random.uniform(-1.0, 1.0)\n",
    "\n",
    "    state0 = (state00, state01)\n",
    "    \n",
    "system_parameters = {}\n",
    "system_parameters['mu'] = 1.5\n",
    "system_parameters['tau_1'] = 0.1\n",
    "system_parameters['tau_2'] = 0.1\n",
    "system_parameters['sigma'] = 0.1  # noise add into euler integration\n",
    "system_parameters['scale'] = 1 / 0.4"
   ]
  },
  {
   "cell_type": "code",
   "execution_count": 4,
   "id": "d786279c-f1e8-4399-8004-e75493401fc1",
   "metadata": {},
   "outputs": [],
   "source": [
    "#generate latent\n",
    "n_time_bins = 2000\n",
    "t = delta * torch.arange(n_time_bins)\n",
    "X = generate_noisy_van_der_pol(state0, t, system_parameters)\n",
    "\n",
    "n_latents = X.shape[-1]\n",
    "n_neurons = 50\n",
    "X = X.reshape((n_time_bins, n_latents)) #n_trials>1?\n",
    "\n",
    "#scale for same snr\n",
    "X = X @ np.array([[4,0],[0,4]])"
   ]
  },
  {
   "cell_type": "code",
   "execution_count": 5,
   "id": "611fe409-2bf8-41ae-b92b-989c6dce77bf",
   "metadata": {},
   "outputs": [],
   "source": [
    "#generate observations Guassian observations\n",
    "C = np.random.normal(size=(n_latents, n_neurons))  # loading matrix\n",
    "d = np.random.normal(size=n_neurons)  # bias\n",
    "# observation\n",
    "Y = X @ C + d\n",
    "Y = Y + np.random.normal(size=Y.shape) * 0.1  # add some noise"
   ]
  },
  {
   "cell_type": "code",
   "execution_count": null,
   "id": "fdbd611a-1ca0-485b-acee-cd099de64676",
   "metadata": {},
   "outputs": [],
   "source": [
    "# Setup and fit VJF \n",
    "n_rbf = 50  # number of radial basis functions for dynamical system\n",
    "hidden_sizes = [20]  # size of hidden layers of recognition model\n",
    "udim = 0\n",
    "likelihood = 'gaussian'  # gaussian or poisson\n",
    "\n",
    "model_gauss = VJF.make_model(n_neurons, n_latents, udim=udim, n_rbf=n_rbf, hidden_sizes=hidden_sizes, likelihood=likelihood)\n",
    "\n",
    "m_gauss, logvar, _ = model_gauss.fit(Y, max_iter=150)  # fit and return list of state posterior tuples (mean, log variance)\n",
    "\n",
    "m_gauss = m_gauss.detach().numpy().squeeze()"
   ]
  },
  {
   "cell_type": "code",
   "execution_count": null,
   "id": "f2e1afab-5749-4c2c-bdee-d84df392ab69",
   "metadata": {},
   "outputs": [],
   "source": [
    "# regress to account for invariance\n",
    "X_hat = m_gauss #rearrange(m_vdp, 'batch time lat ->  (batch time) lat')\n",
    "S = np.linalg.pinv(X_hat) @ X.reshape(n_trials * n_time_bins, n_latents)\n",
    "X_hat_tilde = X_hat @ S\n",
    "X_hat_tilde = X_hat_tilde.reshape(n_trials, n_time_bins, n_latents)\n",
    "\n",
    "# Plot\n",
    "fig, axs = plt.subplots(2, 1, sharex='all')\n",
    "print(f'X_hat shape: {X_hat.shape}')\n",
    "axs[0].plot(X[:, 0])\n",
    "axs[0].plot(X_hat_tilde[trial, :, 0])\n",
    "\n",
    "axs[1].plot(X[:, 1])\n",
    "axs[1].plot(X_hat_tilde[trial, :, 1])\n",
    "plt.legend([\"Data\", \"Fit\"])\n",
    "plt.show()"
   ]
  },
  {
   "cell_type": "code",
   "execution_count": null,
   "id": "99c94f67-49da-40af-a98e-f9eb0299a6d5",
   "metadata": {},
   "outputs": [],
   "source": [
    "# Draw the inferred velocity field\n",
    "\n",
    "ax = fig.add_subplot(223)\n",
    "r = np.mean(np.abs(m_gauss).max())  # determine the limits of plot\n",
    "\n",
    "Xm, Ym, XYm = grid(51, [-1.5*r, 1.5*r])\n",
    "Um, Vm = model_gauss.transition.velocity(torch.tensor(XYm, dtype=torch.float)).detach().numpy().T  # get velocity\n",
    "Um = np.reshape(Um, Xm.shape)\n",
    "Vm = np.reshape(Vm, Ym.shape)\n",
    "plt.streamplot(Xm, Ym, Um, Vm)\n",
    "plt.plot(*m_gauss.T, color='C1', alpha=0.5, zorder=5)\n",
    "plt.title('Velocity field')"
   ]
  },
  {
   "cell_type": "code",
   "execution_count": null,
   "id": "a13b2884-ff7b-46ba-a51e-11daf4284b1d",
   "metadata": {},
   "outputs": [],
   "source": []
  },
  {
   "cell_type": "code",
   "execution_count": null,
   "id": "6dff8d4f-fb5d-409f-aa1a-428607200b89",
   "metadata": {},
   "outputs": [],
   "source": []
  },
  {
   "cell_type": "markdown",
   "id": "5c6e00cd-28f4-4898-8e1b-1ddf446e9c5b",
   "metadata": {},
   "source": [
    "### Poisson"
   ]
  },
  {
   "cell_type": "code",
   "execution_count": 15,
   "id": "b7e3aec4-f981-49ba-bb0b-568a53c5cb3b",
   "metadata": {},
   "outputs": [],
   "source": [
    "#generate Poisson observations: spikes\n",
    "C = np.random.normal(size=(n_neurons, n_latents))\n",
    "max_c = .8\n",
    "C = np.where(np.abs(C)>max_c, np.sign(C)*max_c, C)\n",
    "C = 1.*C\n",
    "b = np.log(0.5 + 0.05 * np.random.rand(n_neurons))  # 10 to 60 hz baseline\n",
    "rates = np.exp(X@C.T + b)\n",
    "r = delta * rates\n",
    "\n",
    "Y_unchopped = np.random.poisson(r) \n",
    "Y = np.where(Y_unchopped>1, 1, Y_unchopped)"
   ]
  },
  {
   "cell_type": "code",
   "execution_count": 16,
   "id": "b290578f-031e-46c2-8c7b-3c5eacfb796d",
   "metadata": {},
   "outputs": [
    {
     "data": {
      "image/png": "[encoded data removed]",
      "text/plain": [
       "<Figure size 1000x300 with 3 Axes>"
      ]
     },
     "metadata": {},
     "output_type": "display_data"
    }
   ],
   "source": [
    "cidx1 = np.lexsort((C[:,0], C[:,1]), axis=0)\n",
    "cidx2 = np.lexsort((C[:,1], C[:,0]), axis=0)\n",
    "\n",
    "nT = 1500\n",
    "T = time_delta*nT\n",
    "\n",
    "raster = []; rasterSorted1 = []; rasterSorted2 = []\n",
    "for k in range(n_neurons):\n",
    "    raster.append(np.nonzero(Y[:,k])[0]/nT*T)\n",
    "    rasterSorted1.append(np.nonzero(Y[:,cidx1[k]])[0]/nT*T)\n",
    "    rasterSorted2.append(np.nonzero(Y[:,cidx2[k]])[0]/nT*T)\n",
    "    \n",
    "plt.subplots(1,3, figsize=(10, 3))\n",
    "plt.subplot(1,3,1)\n",
    "plt.eventplot(raster, lw=0.5, color='k', label='spikes')\n",
    "plt.xlim(0, T); plt.xlabel('time'); plt.yticks([]); plt.title('raster plot'); plt.ylabel('neurons');\n",
    "plt.subplot(1,3,2)\n",
    "plt.eventplot(rasterSorted1, lw=0.5, color='k', label='spikes')\n",
    "plt.xlim(0, T); plt.xlabel('time'); plt.yticks([]); plt.title('raster plot (1)'); plt.ylabel('sorted neurons');\n",
    "plt.subplot(1,3,3)\n",
    "plt.eventplot(rasterSorted2, lw=0.5, color='k', label='spikes')\n",
    "plt.xlim(0, T); plt.xlabel('time'); plt.yticks([]); plt.title('raster plot (2)'); plt.ylabel('sorted neurons');"
   ]
  },
  {
   "cell_type": "code",
   "execution_count": null,
   "id": "26571f5e-22fb-4f0b-83fb-8168a5b74553",
   "metadata": {},
   "outputs": [
    {
     "name": "stderr",
     "output_type": "stream",
     "text": [
      " 94%|██████████████████████████████████████████████████████████████▉    | 235/250 [1:19:14<02:03,  8.26s/it, Loss=9.77]"
     ]
    }
   ],
   "source": [
    "# Setup and fit VJF \n",
    "n_rbf = 150  # number of radial basis functions for dynamical system\n",
    "hidden_sizes = [20]  # size of hidden layers of recognition model\n",
    "udim = 0\n",
    "likelihood = 'poisson'  # gaussian or poisson\n",
    "\n",
    "model_poisson = VJF.make_model(n_neurons, n_latents, udim=udim, n_rbf=n_rbf, hidden_sizes=hidden_sizes, likelihood=likelihood)\n",
    "\n",
    "m_poisson, logvar, _ = model_poisson.fit(Y, max_iter=250)  # fit and return list of state posterior tuples (mean, log variance)\n",
    "\n",
    "m_poisson = m_poisson.detach().numpy().squeeze()"
   ]
  },
  {
   "cell_type": "code",
   "execution_count": null,
   "id": "46e9992f-3b14-41dc-8ec4-405164af9766",
   "metadata": {},
   "outputs": [],
   "source": [
    "# regress to account for invariance\n",
    "X_hat = m_poisson \n",
    "S = np.linalg.pinv(X_hat) @ X.reshape(n_trials * n_time_bins, n_latents)\n",
    "X_hat_tilde = X_hat @ S\n",
    "X_hat_tilde = X_hat_tilde.reshape(n_trials, n_time_bins, n_latents)\n",
    "\n",
    "# Plot\n",
    "fig, axs = plt.subplots(2, 1, sharex='all')\n",
    "axs[0].plot(X[:, 0])\n",
    "axs[0].plot(X_hat_tilde[trial, :, 0])\n",
    "\n",
    "axs[1].plot(X[:, 1])\n",
    "axs[1].plot(X_hat_tilde[trial, :, 1])\n",
    "plt.legend([\"Data\", \"Fit\"])\n",
    "plt.show()"
   ]
  },
  {
   "cell_type": "code",
   "execution_count": null,
   "id": "00cde0e4-52d1-4900-a9b8-e8407eb12d7d",
   "metadata": {},
   "outputs": [],
   "source": [
    "# Draw the inferred velocity field\n",
    "\n",
    "ax = fig.add_subplot(223)\n",
    "r = np.mean(np.abs(m_poisson).max())  # determine the limits of plot\n",
    "\n",
    "Xm, Ym, XYm = grid(51, [-1.5*r, 1.5*r])\n",
    "Um, Vm = model_poisson.transition.velocity(torch.tensor(XYm, dtype=torch.float)).detach().numpy().T  # get velocity\n",
    "Um = np.reshape(Um, Xm.shape)\n",
    "Vm = np.reshape(Vm, Ym.shape)\n",
    "plt.streamplot(Xm, Ym, Um, Vm)\n",
    "plt.plot(*m_poisson.T, color='C1', alpha=0.5, zorder=5)\n",
    "plt.title('Velocity field')"
   ]
  },
  {
   "cell_type": "code",
   "execution_count": null,
   "id": "0abb096b-1a2a-4661-b0e1-c1ad8a4ed1ca",
   "metadata": {},
   "outputs": [],
   "source": []
  },
  {
   "cell_type": "code",
   "execution_count": null,
   "id": "e9f9ac04-e9dc-447d-9994-4abde042e71b",
   "metadata": {},
   "outputs": [],
   "source": []
  }
 ],
 "metadata": {
  "kernelspec": {
   "display_name": "Python 3 (ipykernel)",
   "language": "python",
   "name": "python3"
  },
  "language_info": {
   "codemirror_mode": {
    "name": "ipython",
    "version": 3
   },
   "file_extension": ".py",
   "mimetype": "text/x-python",
   "name": "python",
   "nbconvert_exporter": "python",
   "pygments_lexer": "ipython3",
   "version": "3.9.0"
  }
 },
 "nbformat": 4,
 "nbformat_minor": 5
}
