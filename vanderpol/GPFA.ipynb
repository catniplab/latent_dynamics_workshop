{
 "cells": [
  {
   "cell_type": "code",
   "execution_count": null,
   "metadata": {
    "tags": []
   },
   "outputs": [],
   "source": [
    "import neo\n",
    "import h5py\n",
    "import torch\n",
    "import pathlib\n",
    "import numpy as np\n",
    "import matplotlib.pyplot as plt\n",
    "\n",
    "import quantities as pq\n",
    "from elephant.gpfa import GPFA"
   ]
  },
  {
   "cell_type": "code",
   "execution_count": null,
   "metadata": {
    "collapsed": false,
    "jupyter": {
     "outputs_hidden": false
    }
   },
   "outputs": [],
   "source": [
    "# ---- Convert to neo.SpikeTrains ---- #\n",
    "def array_to_spiketrains(array, bin_size):\n",
    "    \"\"\"Convert B x T x N spiking array to list of list of SpikeTrains\"\"\"\n",
    "    stList = []\n",
    "\n",
    "    for trial in range(len(array)):\n",
    "        trialList = []\n",
    "        for channel in range(array.shape[2]):\n",
    "            times = np.nonzero(array[trial, :, channel])[0]\n",
    "            counts = array[trial, times, channel].astype(int)\n",
    "            times = np.repeat(times, counts)\n",
    "            st = neo.SpikeTrain(times*bin_size*pq.ms, t_stop=array.shape[1]*bin_size*pq.ms)\n",
    "            trialList.append(st)\n",
    "        stList.append(trialList)\n",
    "    return stList"
   ]
  },
  {
   "cell_type": "code",
   "execution_count": null,
   "metadata": {
    "collapsed": false,
    "jupyter": {
     "outputs_hidden": false
    }
   },
   "outputs": [],
   "source": [
    "# load and prepare data\n",
    "data = h5py.File('data/poisson_obs.h5')\n",
    "\n",
    "Y = np.array(data['Y'])\n",
    "X = np.array(data['X'])\n",
    "C = np.array(data['C'])\n",
    "b = np.array(data['bias'])\n",
    "\n",
    "# setup parameters\n",
    "n_trials = 100\n",
    "bin_size_ms = 5\n",
    "time_delta = bin_size_ms * 1e-3\n",
    "\n",
    "n_latents = X.shape[2]\n",
    "n_neurons = Y.shape[2]\n",
    "n_time_bins = Y.shape[1]\n",
    "\n",
    "Y = Y[:n_trials]\n",
    "X = X[:n_trials]\n",
    "Y_st_train = array_to_spiketrains(Y, bin_size_ms)"
   ]
  },
  {
   "cell_type": "code",
   "execution_count": null,
   "metadata": {
    "collapsed": false,
    "jupyter": {
     "outputs_hidden": false
    }
   },
   "outputs": [],
   "source": [
    "# ---- Run GPFA ---- #\n",
    "gpfa = GPFA(bin_size=(bin_size_ms * pq.ms), x_dim=n_latents)\n",
    "gpfa_val_result = gpfa.fit_transform(Y_st_train)\n",
    "\n",
    "length_scales = gpfa.params_estimated['gamma']"
   ]
  },
  {
   "cell_type": "code",
   "execution_count": null,
   "metadata": {},
   "outputs": [],
   "source": [
    "#Rotate and scale reconstructed data so that it better overlays with the original data\n",
    "gpfa_val_result_array  = np.array(gpfa_val_result)\n",
    "gpfa_val_result_array = np.stack(gpfa_val_result_array).transpose((0,2,1)).reshape((-1, n_latents)) #.reshape((n_trials, -1, n_latents))\n",
    "A, _, _, _ = np.linalg.lstsq(gpfa_val_result_array, X.reshape((-1,n_latents)), rcond=None)\n",
    "rotated_gpfa_val_result = gpfa_val_result_array @ A\n",
    "rotated_gpfa_val_result = rotated_gpfa_val_result.reshape((n_trials, -1, n_latents))"
   ]
  },
  {
   "cell_type": "code",
   "execution_count": null,
   "metadata": {
    "collapsed": false,
    "jupyter": {
     "outputs_hidden": false
    }
   },
   "outputs": [],
   "source": [
    "# plot the true and inferred latents of trial 0\n",
    "trial_num = 1\n",
    "fig, [ax0, ax1, ax2] = plt.subplots(1, 3, figsize=(15,5))\n",
    "ax0.plot(X[trial_num,:,0], X[trial_num,:,1])\n",
    "ax1.plot(gpfa_val_result[trial_num][0,:], gpfa_val_result[trial_num][1,:])\n",
    "ax2.plot(rotated_gpfa_val_result[trial_num][:,0], rotated_gpfa_val_result[trial_num][:,1])\n",
    "\n",
    "ax0.set_title(\"Data\")\n",
    "ax1.set_title(\"Reconstruction\")\n",
    "ax2.set_title(\"Aligned reconstruction\");"
   ]
  },
  {
   "cell_type": "code",
   "execution_count": null,
   "metadata": {},
   "outputs": [],
   "source": []
  }
 ],
 "metadata": {
  "kernelspec": {
   "display_name": "Python 3 (ipykernel)",
   "language": "python",
   "name": "python3"
  },
  "language_info": {
   "codemirror_mode": {
    "name": "ipython",
    "version": 3
   },
   "file_extension": ".py",
   "mimetype": "text/x-python",
   "name": "python",
   "nbconvert_exporter": "python",
   "pygments_lexer": "ipython3",
   "version": "3.9.0"
  }
 },
 "nbformat": 4,
 "nbformat_minor": 4
}
