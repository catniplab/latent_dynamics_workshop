{
 "cells": [
  {
   "cell_type": "code",
   "execution_count": 13,
   "metadata": {
    "collapsed": true
   },
   "outputs": [],
   "source": [
    "import h5py\n",
    "import math\n",
    "import numpy as np\n",
    "import matplotlib.pyplot as plt\n",
    "\n",
    "from vlgpax.kernel import RBF\n",
    "from vlgpax import Session, vi\n",
    "from config import get_cfg_defaults\n",
    "# pip install git+https://github.com/yuanz271/vlgpax.git\n",
    "\n",
    "cfg = get_cfg_defaults()\n",
    "data = h5py.File('data/poisson_obs.h5')\n",
    "\n",
    "Y = np.array(data['Y'])\n",
    "X = np.array(data['X'])\n",
    "C = np.array(data['C'])\n",
    "b = np.array(data['bias'])\n",
    "\n",
    "n_trials = 5\n",
    "bin_size_ms = 5\n",
    "n_latents = X.shape[2]\n",
    "time_delta = bin_size_ms * 1e-3\n",
    "\n",
    "n_latents = X.shape[2]\n",
    "n_neurons = Y.shape[2]\n",
    "n_time_bins = Y.shape[1]\n",
    "\n",
    "Y = Y[:n_trials]\n",
    "X = X[:n_trials]"
   ]
  },
  {
   "cell_type": "code",
   "execution_count": 14,
   "outputs": [
    {
     "name": "stdout",
     "output_type": "stream",
     "text": [
      "(5, 500, 250)\n",
      "(500, 250)\n",
      "(500, 250)\n",
      "(500, 250)\n",
      "(500, 250)\n",
      "(500, 250)\n",
      "Initializing\n",
      "\u001B[32m\u001B[1mInitialized\u001B[0m\n",
      "EM Iteration 1, \tLoss = 118.1505, \tM step: 0.49s, \tE step: 0.78s\n",
      "EM Iteration 2, \tLoss = 117.5581, \tM step: 0.20s, \tE step: 0.30s\n",
      "EM Iteration 3, \tLoss = 117.5538, \tM step: 0.15s, \tE step: 0.32s\n",
      "EM Iteration 4, \tLoss = 117.5500, \tM step: 0.15s, \tE step: 0.40s\n",
      "EM Iteration 5, \tLoss = 117.5464, \tM step: 0.17s, \tE step: 0.42s\n",
      "EM Iteration 6, \tLoss = 117.5430, \tM step: 0.15s, \tE step: 0.43s\n",
      "EM Iteration 7, \tLoss = 117.5399, \tM step: 0.15s, \tE step: 0.42s\n",
      "EM Iteration 8, \tLoss = 117.5370, \tM step: 0.15s, \tE step: 0.41s\n",
      "EM Iteration 9, \tLoss = 117.5342, \tM step: 0.15s, \tE step: 0.38s\n",
      "EM Iteration 10, \tLoss = 117.5316, \tM step: 0.15s, \tE step: 0.39s\n",
      "EM Iteration 11, \tLoss = 117.5291, \tM step: 0.15s, \tE step: 0.42s\n",
      "EM Iteration 12, \tLoss = 117.5269, \tM step: 0.15s, \tE step: 0.39s\n",
      "EM Iteration 13, \tLoss = 117.5247, \tM step: 0.15s, \tE step: 0.41s\n",
      "EM Iteration 14, \tLoss = 117.5227, \tM step: 0.15s, \tE step: 0.37s\n",
      "EM Iteration 15, \tLoss = 117.5208, \tM step: 0.15s, \tE step: 0.37s\n",
      "EM Iteration 16, \tLoss = 117.5190, \tM step: 0.14s, \tE step: 0.38s\n",
      "EM Iteration 17, \tLoss = 117.5173, \tM step: 0.15s, \tE step: 0.39s\n",
      "EM Iteration 18, \tLoss = 117.5157, \tM step: 0.15s, \tE step: 0.39s\n",
      "EM Iteration 19, \tLoss = 117.5142, \tM step: 0.14s, \tE step: 0.42s\n",
      "EM Iteration 20, \tLoss = 117.5127, \tM step: 0.15s, \tE step: 0.47s\n",
      "EM Iteration 21, \tLoss = 117.5114, \tM step: 0.15s, \tE step: 0.48s\n",
      "EM Iteration 22, \tLoss = 117.5101, \tM step: 0.15s, \tE step: 0.55s\n",
      "EM Iteration 23, \tLoss = 117.5089, \tM step: 0.15s, \tE step: 0.58s\n",
      "EM Iteration 24, \tLoss = 117.5078, \tM step: 0.15s, \tE step: 0.54s\n",
      "EM: stopped at convergence\n",
      "Inferring\n",
      "Trial 1, \tLoss = 116.9319\n",
      "Trial 2, \tLoss = 116.7200\n",
      "Trial 3, \tLoss = 117.7993\n",
      "Trial 4, \tLoss = 118.3960\n",
      "Trial 5, \tLoss = 116.7256\n",
      "\u001B[32m\u001B[1mFinished\u001B[0m\n"
     ]
    }
   ],
   "source": [
    "random_seed = 1234\n",
    "np.random.seed(random_seed)\n",
    "\n",
    "# Create an inference session\n",
    "print(Y.shape)\n",
    "session = Session(time_delta)\n",
    "\n",
    "# Session is the top level container of data. Two arguments, binsize and unit of time, are required at construction.\n",
    "for i, y in enumerate(Y):\n",
    "    print(y.shape)\n",
    "    session.add_trial(i + 1, y = y)  # Add trials to the session.\n",
    "\n",
    "# Build the model\n",
    "kernel = RBF(scale = 1., lengthscale = 25 * time_delta)  # RBF kernel\n",
    "session, params = vi.fit(session, n_factors=2, kernel=kernel, seed=random_seed, max_iter=50)"
   ],
   "metadata": {
    "collapsed": false,
    "pycharm": {
     "name": "#%%\n"
    }
   }
  },
  {
   "cell_type": "code",
   "execution_count": 15,
   "outputs": [
    {
     "name": "stdout",
     "output_type": "stream",
     "text": [
      "X_hat shape: (2500, 2)\n"
     ]
    },
    {
     "data": {
      "text/plain": "<Figure size 432x288 with 2 Axes>",
      "image/png": "[encoded data removed]"
     },
     "metadata": {
      "needs_background": "light"
     },
     "output_type": "display_data"
    }
   ],
   "source": [
    "\n",
    "# regress to account for invariance\n",
    "X_hat = session.z\n",
    "S = np.linalg.pinv(X_hat) @ X.reshape(n_trials * n_time_bins, n_latents)\n",
    "X_hat_tilde = X_hat @ S\n",
    "X_hat_tilde = X_hat_tilde.reshape(n_trials, n_time_bins, n_latents)\n",
    "\n",
    "# Plot\n",
    "fig, axs = plt.subplots(2, 1, sharex='all')\n",
    "print(f'X_hat shape: {X_hat.shape}')\n",
    "axs[0].plot(X_hat_tilde[0, :, 0])\n",
    "axs[0].plot(X[0, :, 0])\n",
    "axs[1].plot(X_hat_tilde[0, :, 1])\n",
    "axs[1].plot(X[0, :, 1])\n",
    "plt.show()"
   ],
   "metadata": {
    "collapsed": false,
    "pycharm": {
     "name": "#%%\n"
    }
   }
  },
  {
   "cell_type": "code",
   "execution_count": 2,
   "outputs": [],
   "source": [],
   "metadata": {
    "collapsed": false,
    "pycharm": {
     "name": "#%%\n"
    }
   }
  }
 ],
 "metadata": {
  "kernelspec": {
   "display_name": "Python 3",
   "language": "python",
   "name": "python3"
  },
  "language_info": {
   "codemirror_mode": {
    "name": "ipython",
    "version": 2
   },
   "file_extension": ".py",
   "mimetype": "text/x-python",
   "name": "python",
   "nbconvert_exporter": "python",
   "pygments_lexer": "ipython2",
   "version": "2.7.6"
  }
 },
 "nbformat": 4,
 "nbformat_minor": 0
}